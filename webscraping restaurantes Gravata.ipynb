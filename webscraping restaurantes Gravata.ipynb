{
 "cells": [
  {
   "cell_type": "code",
   "execution_count": 2,
   "metadata": {},
   "outputs": [],
   "source": [
    "import googlemaps\n",
    "import pandas as pd\n",
    "import time"
   ]
  },
  {
   "cell_type": "code",
   "execution_count": null,
   "metadata": {},
   "outputs": [
    {
     "name": "stdout",
     "output_type": "stream",
     "text": [
      "Excel file generated successfully!\n"
     ]
    }
   ],
   "source": [
    "# Your Google API key\n",
    "API_KEY = \"YourKey\"\n",
    "\n",
    "# Initialize the Google Maps client\n",
    "gmaps = googlemaps.Client(key=API_KEY)\n",
    "\n",
    "# Get coordinates of Gravatá\n",
    "localizacao = \"Gravatá, Pernambuco, Brazil\"\n",
    "geocode_result = gmaps.geocode(localizacao)\n",
    "\n",
    "# Check if the geocoding was successful\n",
    "if not geocode_result:\n",
    "    raise Exception(\"Could not get the coordinates of Gravatá.\")\n",
    "\n",
    "# Extract latitude and longitude\n",
    "lat_lng = geocode_result[0][\"geometry\"][\"location\"]\n",
    "latitude = lat_lng[\"lat\"]\n",
    "longitude = lat_lng[\"lng\"]\n",
    "\n",
    "# Search parameters\n",
    "tipo = \"restaurant\"\n",
    "radius = 5000  # Search radius in meters\n",
    "\n",
    "# List to store the restaurants\n",
    "restaurantes = []\n",
    "next_page_token = None\n",
    "\n",
    "while True:\n",
    "    # Make the initial request or fetch the next page\n",
    "    if next_page_token:\n",
    "        resultados = gmaps.places_nearby(location=(latitude, longitude), radius=radius, type=tipo, page_token=next_page_token)\n",
    "    else:\n",
    "        resultados = gmaps.places_nearby(location=(latitude, longitude), radius=radius, type=tipo)\n",
    "    \n",
    "    # Add the found restaurants\n",
    "    restaurantes.extend(resultados[\"results\"])\n",
    "\n",
    "    # Check if there are more pages of results\n",
    "    next_page_token = resultados.get(\"next_page_token\")\n",
    "    \n",
    "    if not next_page_token:\n",
    "        break  # If there are no more pages, exit the loop\n",
    "\n",
    "    # Google may take a few seconds to release the next page\n",
    "    time.sleep(2)\n",
    "\n",
    "# Create the table with restaurant details\n",
    "dados = []\n",
    "for lugar in restaurantes:\n",
    "    detalhes = gmaps.place(place_id=lugar[\"place_id\"])[\"result\"]\n",
    "    \n",
    "    nome = detalhes.get(\"name\", \"N/A\")\n",
    "    endereco = detalhes.get(\"formatted_address\", \"N/A\")\n",
    "    telefone = detalhes.get(\"formatted_phone_number\", \"N/A\")\n",
    "    site = detalhes.get(\"website\", \"N/A\")\n",
    "    horario = detalhes.get(\"opening_hours\", {}).get(\"weekday_text\", \"N/A\")\n",
    "    email = detalhes.get(\"email\", \"N/A\")  # The API usually does not provide email\n",
    "\n",
    "    dados.append([nome, endereco, telefone, site, horario, email])\n",
    "    \n",
    "    # Pause to avoid API blocking\n",
    "    time.sleep(1)\n",
    "\n",
    "# Create DataFrame and save to Excel\n",
    "df = pd.DataFrame(dados, columns=[\"Name\", \"Address\", \"Phone\", \"Website\", \"Hours\", \"Email\"])\n",
    "df.to_excel(\"restaurantes_gravata.xlsx\", index=False)\n",
    "\n",
    "print(\"Excel file generated successfully!\")\n"
   ]
  }
 ],
 "metadata": {
  "kernelspec": {
   "display_name": "Python 3",
   "language": "python",
   "name": "python3"
  },
  "language_info": {
   "codemirror_mode": {
    "name": "ipython",
    "version": 3
   },
   "file_extension": ".py",
   "mimetype": "text/x-python",
   "name": "python",
   "nbconvert_exporter": "python",
   "pygments_lexer": "ipython3",
   "version": "3.12.1"
  }
 },
 "nbformat": 4,
 "nbformat_minor": 2
}
